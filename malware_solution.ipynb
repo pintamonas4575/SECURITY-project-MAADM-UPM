{
 "cells": [
  {
   "cell_type": "markdown",
   "metadata": {},
   "source": [
    "# Seguridad y Privacidad de los Datos - 2024/25"
   ]
  },
  {
   "cell_type": "code",
   "execution_count": 1,
   "metadata": {},
   "outputs": [],
   "source": [
    "import os\n",
    "import random\n",
    "import copy\n",
    "import time\n",
    "import torch\n",
    "import numpy as np\n",
    "import pandas as pd\n",
    "import onnxruntime as rt\n",
    "import xgboost as xgb\n",
    "import seaborn as sns\n",
    "import matplotlib.pyplot as plt\n",
    "from torch import nn\n",
    "from tqdm import tqdm\n",
    "from torch.utils.data import DataLoader, Dataset\n",
    "from sklearn.model_selection import train_test_split\n",
    "from sklearn.metrics import classification_report, confusion_matrix, accuracy_score"
   ]
  },
  {
   "cell_type": "code",
   "execution_count": 2,
   "metadata": {},
   "outputs": [
    {
     "name": "stdout",
     "output_type": "stream",
     "text": [
      "Using device: cpu\n"
     ]
    }
   ],
   "source": [
    "device = \"cuda\" if torch.cuda.is_available() else \"cpu\"\n",
    "print(\"Using device:\", device)\n",
    "\n",
    "df = pd.read_csv('malware_dataset.csv')\n",
    "df = df.drop([\"timestamp\",'unused_permissions',\"sha256\"], axis=1)\n",
    "\n",
    "X_train, X_test, y_train, y_test = train_test_split(df.drop('label', axis=1), df['label'], test_size=0.15, random_state=42)"
   ]
  },
  {
   "cell_type": "code",
   "execution_count": 31,
   "metadata": {},
   "outputs": [],
   "source": [
    "# from ydata_profiling import ProfileReport\n",
    "\n",
    "# df = pd.read_csv('malware_dataset.csv')\n",
    "# profile = ProfileReport(df, title='Malware Dataset Report')\n",
    "# profile.to_file(\"malware_report.html\")"
   ]
  },
  {
   "cell_type": "markdown",
   "metadata": {},
   "source": [
    "# 0. Train the model on the provided dataset"
   ]
  },
  {
   "cell_type": "markdown",
   "metadata": {},
   "source": [
    "## **XGBoost**"
   ]
  },
  {
   "cell_type": "code",
   "execution_count": 3,
   "metadata": {},
   "outputs": [
    {
     "name": "stdout",
     "output_type": "stream",
     "text": [
      "Accuracy:  0.9779528953426598\n",
      "              precision    recall  f1-score   support\n",
      "\n",
      "           0       0.98      0.99      0.99     10145\n",
      "           1       0.93      0.85      0.89      1149\n",
      "\n",
      "    accuracy                           0.98     11294\n",
      "   macro avg       0.96      0.92      0.94     11294\n",
      "weighted avg       0.98      0.98      0.98     11294\n",
      "\n"
     ]
    }
   ],
   "source": [
    "# params: https://xgboost.readthedocs.io/en/stable/python/python_api.html#xgboost.XGBClassifier\n",
    "xgboost_model = xgb.XGBClassifier(objective='binary:logistic')\n",
    "\n",
    "xgboost_model.fit(X_train, y_train)\n",
    "y_pred = xgboost_model.predict(X_test)\n",
    "\n",
    "print(\"Accuracy: \", accuracy_score(y_test, y_pred))\n",
    "print(classification_report(y_test, y_pred))\n",
    "\n",
    "xgboost_model.save_model('malware_xgboost_model.json')"
   ]
  },
  {
   "cell_type": "code",
   "execution_count": 4,
   "metadata": {},
   "outputs": [
    {
     "data": {
      "image/png": "[encoded data removed]",
      "text/plain": [
       "<Figure size 800x400 with 2 Axes>"
      ]
     },
     "metadata": {},
     "output_type": "display_data"
    }
   ],
   "source": [
    "cm = confusion_matrix(y_test, y_pred)\n",
    "plt.figure(figsize=(8,4))\n",
    "sns.heatmap(cm, annot=True, fmt='d', cmap='Blues')\n",
    "plt.xlabel('Predicted Labels')\n",
    "plt.ylabel('True Labels')\n",
    "plt.title('Confusion Matrix')\n",
    "plt.show()"
   ]
  },
  {
   "cell_type": "code",
   "execution_count": 5,
   "metadata": {},
   "outputs": [
    {
     "name": "stdout",
     "output_type": "stream",
     "text": [
      "Accuracy:  0.9779528953426598\n"
     ]
    }
   ],
   "source": [
    "test_xgboost_model = xgb.XGBClassifier()\n",
    "test_xgboost_model.load_model('malware_xgboost_model.json')\n",
    "\n",
    "y_pred2 = xgboost_model.predict(X_test)\n",
    "print(\"Accuracy: \", accuracy_score(y_test, y_pred2))"
   ]
  },
  {
   "cell_type": "markdown",
   "metadata": {},
   "source": [
    "## **Neural Network**"
   ]
  },
  {
   "cell_type": "code",
   "execution_count": 6,
   "metadata": {},
   "outputs": [],
   "source": [
    "class Model(nn.Module):\n",
    "    def __init__(self):\n",
    "        super(Model, self).__init__()\n",
    "        self.fc1 = nn.Linear(354, 64)\n",
    "        self.fc2 = nn.Linear(64, 2)\n",
    "        self.relu = nn.ReLU()\n",
    "    def forward(self, x):\n",
    "        x = self.fc1(x)\n",
    "        x = self.relu(x)\n",
    "        x = self.fc2(x)\n",
    "        return x\n",
    "class CustomDataset(Dataset):\n",
    "    def __init__(self, data, labels):\n",
    "        self.data = data\n",
    "        self.labels = labels\n",
    "\n",
    "    def __len__(self):\n",
    "        return len(self.data)\n",
    "\n",
    "    def __getitem__(self, idx):\n",
    "        return torch.tensor(self.data[idx], dtype=torch.float32), torch.tensor(self.labels[idx], dtype=torch.long)"
   ]
  },
  {
   "cell_type": "code",
   "execution_count": 7,
   "metadata": {},
   "outputs": [
    {
     "name": "stderr",
     "output_type": "stream",
     "text": [
      "Training: 100%|██████████| 1000/1000 [00:01<00:00, 613.37it/s]\n",
      "Testing: 100%|██████████| 177/177 [00:00<00:00, 1081.98it/s]\n"
     ]
    },
    {
     "name": "stdout",
     "output_type": "stream",
     "text": [
      "Epoch 1/10, Accuracy: 95.58%\n"
     ]
    },
    {
     "name": "stderr",
     "output_type": "stream",
     "text": [
      "Training: 100%|██████████| 1000/1000 [00:01<00:00, 596.12it/s]\n",
      "Testing: 100%|██████████| 177/177 [00:00<00:00, 1177.73it/s]\n"
     ]
    },
    {
     "name": "stdout",
     "output_type": "stream",
     "text": [
      "Epoch 2/10, Accuracy: 96.10%\n"
     ]
    },
    {
     "name": "stderr",
     "output_type": "stream",
     "text": [
      "Training: 100%|██████████| 1000/1000 [00:01<00:00, 608.99it/s]\n",
      "Testing: 100%|██████████| 177/177 [00:00<00:00, 1213.77it/s]\n"
     ]
    },
    {
     "name": "stdout",
     "output_type": "stream",
     "text": [
      "Epoch 3/10, Accuracy: 95.87%\n"
     ]
    },
    {
     "name": "stderr",
     "output_type": "stream",
     "text": [
      "Training: 100%|██████████| 1000/1000 [00:01<00:00, 597.67it/s]\n",
      "Testing: 100%|██████████| 177/177 [00:00<00:00, 1235.89it/s]\n"
     ]
    },
    {
     "name": "stdout",
     "output_type": "stream",
     "text": [
      "Epoch 4/10, Accuracy: 96.07%\n"
     ]
    },
    {
     "name": "stderr",
     "output_type": "stream",
     "text": [
      "Training: 100%|██████████| 1000/1000 [00:01<00:00, 595.71it/s]\n",
      "Testing: 100%|██████████| 177/177 [00:00<00:00, 1196.39it/s]\n"
     ]
    },
    {
     "name": "stdout",
     "output_type": "stream",
     "text": [
      "Epoch 5/10, Accuracy: 96.22%\n"
     ]
    },
    {
     "name": "stderr",
     "output_type": "stream",
     "text": [
      "Training: 100%|██████████| 1000/1000 [00:01<00:00, 596.82it/s]\n",
      "Testing: 100%|██████████| 177/177 [00:00<00:00, 1167.73it/s]\n"
     ]
    },
    {
     "name": "stdout",
     "output_type": "stream",
     "text": [
      "Epoch 6/10, Accuracy: 96.15%\n"
     ]
    },
    {
     "name": "stderr",
     "output_type": "stream",
     "text": [
      "Training: 100%|██████████| 1000/1000 [00:01<00:00, 613.48it/s]\n",
      "Testing: 100%|██████████| 177/177 [00:00<00:00, 1217.89it/s]\n"
     ]
    },
    {
     "name": "stdout",
     "output_type": "stream",
     "text": [
      "Epoch 7/10, Accuracy: 95.96%\n"
     ]
    },
    {
     "name": "stderr",
     "output_type": "stream",
     "text": [
      "Training: 100%|██████████| 1000/1000 [00:01<00:00, 591.75it/s]\n",
      "Testing: 100%|██████████| 177/177 [00:00<00:00, 1216.76it/s]\n"
     ]
    },
    {
     "name": "stdout",
     "output_type": "stream",
     "text": [
      "Epoch 8/10, Accuracy: 96.64%\n"
     ]
    },
    {
     "name": "stderr",
     "output_type": "stream",
     "text": [
      "Training: 100%|██████████| 1000/1000 [00:01<00:00, 584.87it/s]\n",
      "Testing: 100%|██████████| 177/177 [00:00<00:00, 1174.80it/s]\n"
     ]
    },
    {
     "name": "stdout",
     "output_type": "stream",
     "text": [
      "Epoch 9/10, Accuracy: 96.43%\n"
     ]
    },
    {
     "name": "stderr",
     "output_type": "stream",
     "text": [
      "Training: 100%|██████████| 1000/1000 [00:01<00:00, 585.62it/s]\n",
      "Testing: 100%|██████████| 177/177 [00:00<00:00, 1215.14it/s]"
     ]
    },
    {
     "name": "stdout",
     "output_type": "stream",
     "text": [
      "Epoch 10/10, Accuracy: 96.31%\n"
     ]
    },
    {
     "name": "stderr",
     "output_type": "stream",
     "text": [
      "\n"
     ]
    }
   ],
   "source": [
    "model = Model().to(device)\n",
    "dataloader_train = DataLoader(CustomDataset(X_train.values, y_train.values), batch_size=64, shuffle=True)\n",
    "dataloader_test = DataLoader(CustomDataset(X_test.values, y_test.values), batch_size=64, shuffle=False)\n",
    "\n",
    "EPOCHS = 10\n",
    "optimizer = torch.optim.Adam(model.parameters(), lr=0.001)\n",
    "criterion = nn.CrossEntropyLoss()\n",
    "for epoch in range(EPOCHS):\n",
    "    model.train()\n",
    "    for data, labels in tqdm(dataloader_train, desc=\"Training\", total=len(dataloader_train)):\n",
    "        optimizer.zero_grad()\n",
    "        data, labels = data.to(device), labels.to(device)\n",
    "        outputs = model(data)\n",
    "        loss = criterion(outputs, labels)\n",
    "        loss.backward()\n",
    "        optimizer.step()\n",
    "\n",
    "    correct = 0\n",
    "    total = 0\n",
    "    for data, labels in tqdm(dataloader_test, desc=\"Testing\", total=len(dataloader_test)):\n",
    "        data, labels = data.to(device), labels.to(device)\n",
    "        outputs = model(data)\n",
    "        loss = criterion(outputs, labels)\n",
    "        _, predicted = torch.max(outputs.data, 1)\n",
    "        correct += (predicted == labels).sum().item()\n",
    "        total += labels.size(0)\n",
    "    print(f\"Epoch {epoch+1}/{EPOCHS}, Accuracy: {100 * correct / total:.2f}%\")"
   ]
  },
  {
   "cell_type": "code",
   "execution_count": 16,
   "metadata": {},
   "outputs": [
    {
     "name": "stdout",
     "output_type": "stream",
     "text": [
      "torch.Size([64, 2])\n"
     ]
    }
   ],
   "source": [
    "torch.save(model, 'malware_NN_model.pt')\n",
    "model = torch.load('malware_NN_model.pt', weights_only=False)\n",
    "\n",
    "# Test inference with a batch from the test dataloader\n",
    "inputs, targets = next(iter(dataloader_test))\n",
    "inputs = inputs.to(device)\n",
    "outputs = model(inputs)\n",
    "print(outputs.shape)"
   ]
  },
  {
   "cell_type": "markdown",
   "metadata": {},
   "source": [
    "# 1. Perform at least one black-box attack and one white-box attack on the model. You may perform additional attacks as desired.\n",
    "\n",
    "- Black box\n",
    "- White box"
   ]
  },
  {
   "cell_type": "code",
   "execution_count": 13,
   "metadata": {},
   "outputs": [
    {
     "name": "stdout",
     "output_type": "stream",
     "text": [
      "Accuracy: 0.9925086249383933\n"
     ]
    }
   ],
   "source": [
    "test_xgboost_model = xgb.XGBClassifier()\n",
    "test_xgboost_model.load_model('malware_xgboost_model.json')\n",
    "x_no_attack = X_test[y_test == 0]\n",
    "y_no_attack = y_test[y_test == 0]\n",
    "\n",
    "ypred = test_xgboost_model.predict(np.array(x_no_attack))\n",
    "ypred = [1 if x > 0.5 else 0 for x in ypred]\n",
    "print(f\"Accuracy: {accuracy_score(y_no_attack, ypred)}\")"
   ]
  },
  {
   "cell_type": "code",
   "execution_count": 17,
   "metadata": {},
   "outputs": [
    {
     "name": "stderr",
     "output_type": "stream",
     "text": [
      "Iterating over activities count: 100%|██████████| 1999/1999 [01:14<00:00, 26.73it/s]\n"
     ]
    }
   ],
   "source": [
    "lista = []\n",
    "\n",
    "for i in tqdm(range(1,2000), desc='Iterating over activities count'):\n",
    "    no_attacks_changed = x_no_attack.copy()\n",
    "    no_attacks_changed['activities_count'] = i\n",
    "    ypred = test_xgboost_model.predict(np.array(x_no_attack))\n",
    "    ypred = [1 if x > 0.5 else 0 for x in ypred]\n",
    "    lista.append(accuracy_score(y_no_attack, ypred))"
   ]
  },
  {
   "cell_type": "code",
   "execution_count": 22,
   "metadata": {},
   "outputs": [
    {
     "name": "stdout",
     "output_type": "stream",
     "text": [
      "Num gen: 0, Fitness óptimo: 0.3302638569151762\n",
      "Mejor individuo: [25, 59, 18, 77, 50, 89, 99, 9]\n",
      "Num gen: 1, Fitness óptimo: 0.3302638569151762\n",
      "Mejor individuo: [25, 59, 18, 77, 50, 89, 99, 9]\n",
      "Num gen: 2, Fitness óptimo: 0.3302638569151762\n",
      "Mejor individuo: [25, 59, 18, 77, 50, 89, 99, 9]\n",
      "Num gen: 3, Fitness óptimo: 0.3302638569151762\n",
      "Mejor individuo: [25, 59, 18, 77, 50, 89, 99, 9]\n",
      "Num gen: 4, Fitness óptimo: 0.3302638569151762\n",
      "Mejor individuo: [25, 59, 18, 77, 50, 89, 99, 9]\n",
      "Num gen: 5, Fitness óptimo: 0.3302638569151762\n",
      "Mejor individuo: [25, 59, 18, 77, 50, 89, 99, 9]\n",
      "Num gen: 6, Fitness óptimo: 0.3302638569151762\n",
      "Mejor individuo: [25, 59, 18, 77, 50, 89, 99, 9]\n",
      "Num gen: 7, Fitness óptimo: 0.3302638569151762\n",
      "Mejor individuo: [25, 59, 18, 77, 50, 89, 99, 9]\n",
      "Num gen: 8, Fitness óptimo: 0.3302638569151762\n",
      "Mejor individuo: [25, 59, 18, 77, 50, 89, 99, 9]\n",
      "Num gen: 9, Fitness óptimo: 0.32388879050823444\n",
      "Mejor individuo: [25, 59, 18, 77, 53, 89, 99, 9]\n",
      "*******Tiempo transcurrido: 0 minutos y 29.55 segundos*******\n"
     ]
    }
   ],
   "source": [
    "n_individuals = 100\n",
    "n_generations = 100\n",
    "mutation_rate = 0.1\n",
    "population = np.random.randint(0, 2000, size=(n_individuals, 8))\n",
    "\n",
    "class Genetic():\n",
    "    def __init__(self, population_size: int, model, y_test, X_test):\n",
    "        self.population = np.random.randint(0, 100, size=(population_size, 8)).tolist()\n",
    "        self.fitnesses = []\n",
    "        self.model = model\n",
    "        self.y_test = y_test\n",
    "        self.X_test = X_test\n",
    "\n",
    "    def fitness(self, individual):\n",
    "        test = self.X_test.copy()\n",
    "        test[:,0] = individual[0]\n",
    "        # test[:,1] = individual[1]\n",
    "        # test[:,2] = individual[2]\n",
    "        # test[:,3] = individual[3]\n",
    "        test[:,4] = individual[4]\n",
    "        test[:,5] = individual[5]\n",
    "        test[:,6] = individual[6]\n",
    "        # test[:,7] = individual[7]\n",
    "        test = torch.tensor(test, dtype=torch.float32).to(device)\n",
    "        predictions = self.model(test.to(device))\n",
    "        predictions = torch.argmax(predictions, dim=1)\n",
    "        predictions = predictions.cpu().numpy()\n",
    "        return accuracy_score(self.y_test, predictions)\n",
    "\n",
    "    def sort_pop(self, reversed: bool) -> tuple[list[list], list]:\n",
    "        \"\"\"Sort population by fitness function. Return tuple with population list and fitness list\"\"\"\n",
    "\n",
    "        fitness_list = [self.fitness(ind) for ind in self.population]\n",
    "        lista = sorted(zip(self.population, fitness_list), key=lambda x: x[1], reverse=reversed)\n",
    "        self.population = [x[0] for x in lista]\n",
    "        self.fitnesses = [x[1] for x in lista]\n",
    "\n",
    "    def select(self, T: int) -> list:\n",
    "        \"\"\"Return a copy of an individual by tournament selection. Population already ordered by fitness\"\"\"\n",
    "        \n",
    "        indices = random.choices(range(len(self.population)), k=T)\n",
    "        best_index = min(indices)  # since population is ordered by fitness\n",
    "        return copy.deepcopy(self.population[best_index])\n",
    "\n",
    "    def mutate(self,individual: list[list], pmut: float) -> list:\n",
    "        \"\"\"Mutate an individual, swap elements. Return mutated individual\"\"\"\n",
    "\n",
    "        def mutate_swap(individual: list[list], pmut: float) -> list[list]:\n",
    "            if random.random() < pmut:\n",
    "                index1, index2 = random.choices(range(len(individual)), k=2)\n",
    "                individual[index1], individual[index2] = individual[index2], individual[index1]\n",
    "            return individual\n",
    "\n",
    "        def mutate_insert(individual: list[list], pmut: float) -> list[list]:\n",
    "            if random.random() < pmut:\n",
    "                index_pop, index_insert = random.choices(range(len(individual)), k=2)\n",
    "                value = individual.pop(index_pop)\n",
    "                individual.insert(index_insert, value)\n",
    "            return individual\n",
    "\n",
    "        def mutate_reverse(individual: list[list], pmut: float) -> list[list]: \n",
    "            if random.random() < pmut:\n",
    "                index1, index2 = sorted(random.sample(range(len(individual)), 2))\n",
    "                individual[index1:index2 + 1] = individual[index1:index2 + 1][::-1]\n",
    "            return individual\n",
    "        def mutate_random(individual: list[list], pmut: float) -> list[list]:\n",
    "            if random.random()<pmut:\n",
    "                for index in range(len(individual)):\n",
    "                    if random.random() < pmut:\n",
    "                        individual[index] =  np.random.randint(0,100)\n",
    "            return individual\n",
    "        \n",
    "        mutations = [mutate_swap, mutate_insert, mutate_reverse,mutate_random]\n",
    "        operator = random.choice(mutations)\n",
    "        return operator(individual, pmut)\n",
    "\n",
    "    def evolve(self,pmut=0.1, ngen=100, T=2, trace=50, reverse_sort=False, elitism=True) -> None:\n",
    "        \"\"\"Evolution procedure\"\"\"\n",
    "        \n",
    "        size = len(self.population)\n",
    "        for i in range(ngen):\n",
    "            new_pop = []\n",
    "            self.sort_pop(reverse_sort)\n",
    "            if elitism:\n",
    "                new_pop.append(self.population[0])\n",
    "                new_pop.append(self.population[1])\n",
    "            while len(new_pop) != size:   \n",
    "                individual1 = self.select(T)\n",
    "                individual2 = self.select(T)\n",
    "                mutated1 = self.mutate(individual1, pmut)\n",
    "                mutated2 = self.mutate(individual2, pmut)\n",
    "                new_pop.append(mutated1)\n",
    "                new_pop.append(mutated2)\n",
    "            \n",
    "            if i % trace == 0 or i == ngen-1: # en la última gen se ordena\n",
    "                self.sort_pop(reverse_sort)\n",
    "                print(f\"Num gen: {i}, Fitness óptimo: {self.fitnesses[0]}\")\n",
    "                print(f\"Mejor individuo: {self.population[0]}\")\n",
    "            self.population = [*new_pop] # make a copy\n",
    "        return self.population\n",
    "\n",
    "start = time.time()\n",
    "genetic_algorithm = Genetic(population_size=100, model=model, y_test=np.array(y_test), X_test=np.array(X_test)) \n",
    "final_population = genetic_algorithm.evolve(pmut=0.1, ngen=10, T=6, trace=1)\n",
    "minutos, segundos = divmod(time.time()-start, 60)\n",
    "print(f\"*******Tiempo transcurrido: {int(minutos)} minutos y {segundos:.2f} segundos*******\")"
   ]
  },
  {
   "cell_type": "markdown",
   "metadata": {},
   "source": [
    "# 2. Prove that your model can be more robust to adversarial examples"
   ]
  },
  {
   "cell_type": "markdown",
   "metadata": {},
   "source": [
    "Demonstrate that your model maintains high accuracy when subjected to adversarial examples. Provide empirical evidence of robustness by evaluating performance under adversarial attacks.\n",
    "\n",
    "What Will Be Valued:\n",
    "- Effective adversarial attack methods and proper defense mechanisms.\n",
    "- Clear evaluation metrics comparing standard vs. adversarial performance.\n",
    "- Well-documented methodology and reproducibility of results."
   ]
  },
  {
   "cell_type": "code",
   "execution_count": null,
   "metadata": {},
   "outputs": [],
   "source": []
  },
  {
   "cell_type": "markdown",
   "metadata": {},
   "source": [
    "# 3. Try to attack this model"
   ]
  },
  {
   "cell_type": "markdown",
   "metadata": {},
   "source": [
    "You will be given the anonymous model `android_permission_model.onnx`, previously trained on the provided dataset. \n",
    "Analyze the model’s weaknesses by testing different black-box attack strategies.\n",
    "\n",
    "What Will Be Valued:\n",
    "- Use of diverse adversarial attack techniques.\n",
    "- Quantitative analysis of attack effectiveness with relevant metrics.\n",
    "- Clear documentation of the attack process and reproducibility.\n",
    "\n",
    "Below, you can find an example on model loading and inference. The model expects every column in the dataset except for `sha256`, `timestamp` and `unused_permissions`.\n",
    "The model is loaded in an [onnx runtime](https://onnxruntime.ai/docs/api/python/api_summary.html). "
   ]
  },
  {
   "cell_type": "code",
   "execution_count": 3,
   "metadata": {},
   "outputs": [],
   "source": [
    "\n",
    "\n",
    "DATASET_ROUTE = './dataset.csv'\n",
    "\n",
    "df = pd.read_csv(DATASET_ROUTE)\n",
    "model_path = 'android_permission_model.onnx'\n",
    "\n",
    "# removing unused columns\n",
    "if 'timestamp' in df.columns:\n",
    "    df = df.drop('timestamp', axis=1)\n",
    "if 'unused_permissions' in df.columns:\n",
    "    df = df.drop('unused_permissions', axis=1)\n",
    "if 'sha256' in df.columns:\n",
    "    df = df.drop('sha256', axis=1)\n",
    "\n",
    "# features and target separation + train/test split\n",
    "X = df.drop('label', axis=1)\n",
    "y = df['label']\n",
    "\n",
    "X_train, X_test, y_train, y_test = train_test_split(\n",
    "    X, y, test_size=0.25, random_state=42, stratify=y\n",
    ")"
   ]
  },
  {
   "cell_type": "markdown",
   "metadata": {},
   "source": [
    "Example inference function using [sess.run()](https://onnxruntime.ai/docs/api/python/api_summary.html#onnxruntime.InferenceSession.run):"
   ]
  },
  {
   "cell_type": "code",
   "execution_count": 21,
   "metadata": {},
   "outputs": [],
   "source": [
    "def onnx_inference(model_path, test_data):\n",
    "    \"\"\"\n",
    "    Function to load and make predictions with an ONNX model\n",
    "    \"\"\"\n",
    "    # open ONNX inference session\n",
    "    sess = rt.InferenceSession(model_path)\n",
    "    \n",
    "    # input and output names\n",
    "    input_name = sess.get_inputs()[0].name\n",
    "    output_names = [output.name for output in sess.get_outputs()]\n",
    "    \n",
    "    # send inputs to the model and obtain predictions\n",
    "    results = sess.run(output_names, {input_name: test_data.astype(np.float32)})\n",
    "\n",
    "    return results[0]       # results[0] are discrete predicted labels, while results[1] are probabilities"
   ]
  },
  {
   "cell_type": "code",
   "execution_count": 22,
   "metadata": {},
   "outputs": [
    {
     "name": "stdout",
     "output_type": "stream",
     "text": [
      "\n",
      "ONNX Model Predictions (sample):\n",
      "[1 0 0 0 1]\n",
      "\n",
      "Actual labels:\n",
      "[1 0 0 0 0]\n",
      "\n",
      "ONNX Model Predictions (full test set):\n",
      "Accuracy: 0.9815\n",
      "\n",
      "Classification Report:\n",
      "              precision    recall  f1-score   support\n",
      "\n",
      "           0       1.00      0.98      0.99     16943\n",
      "           1       0.86      0.97      0.91      1880\n",
      "\n",
      "    accuracy                           0.98     18823\n",
      "   macro avg       0.93      0.98      0.95     18823\n",
      "weighted avg       0.98      0.98      0.98     18823\n",
      "\n",
      "\n",
      "Confusion Matrix:\n",
      "[[16642   301]\n",
      " [   48  1832]]\n"
     ]
    }
   ],
   "source": [
    "# try and load the model\n",
    "if not os.path.exists(model_path):\n",
    "    print(f\"Error: Model file '{model_path}' not found!\")\n",
    "    print(f\"Current working directory: {os.getcwd()}\")\n",
    "    print(f\"Files in current directory: {os.listdir('.')}\")\n",
    "else:\n",
    "    # small sample to test if it works\n",
    "    test_sample = X_test.iloc[:5].values\n",
    "    onnx_predictions = onnx_inference(model_path, test_sample)\n",
    "    \n",
    "    if onnx_predictions is not None:\n",
    "        print(\"\\nONNX Model Predictions (sample):\")\n",
    "        print(onnx_predictions)\n",
    "        \n",
    "        # compare with actual labels\n",
    "        actual_labels = y_test.iloc[:5].values\n",
    "        print(\"\\nActual labels:\")\n",
    "        print(actual_labels)\n",
    "    \n",
    "    # full test set now\n",
    "    print(\"\\nONNX Model Predictions (full test set):\")\n",
    "    full_predictions = onnx_inference(model_path, X_test.values)\n",
    "\n",
    "    try:\n",
    "        print(f\"Accuracy: {accuracy_score(y_test, full_predictions):.4f}\")\n",
    "        print(\"\\nClassification Report:\")\n",
    "        print(classification_report(y_test, full_predictions))\n",
    "        print(\"\\nConfusion Matrix:\")\n",
    "        print(confusion_matrix(y_test, full_predictions))\n",
    "    except Exception as e:\n",
    "        print(f\"Error during ONNX prediction: {e}\")"
   ]
  },
  {
   "cell_type": "code",
   "execution_count": null,
   "metadata": {},
   "outputs": [],
   "source": []
  }
 ],
 "metadata": {
  "kernelspec": {
   "display_name": ".venv",
   "language": "python",
   "name": "python3"
  },
  "language_info": {
   "codemirror_mode": {
    "name": "ipython",
    "version": 3
   },
   "file_extension": ".py",
   "mimetype": "text/x-python",
   "name": "python",
   "nbconvert_exporter": "python",
   "pygments_lexer": "ipython3",
   "version": "3.12.0"
  }
 },
 "nbformat": 4,
 "nbformat_minor": 2
}
