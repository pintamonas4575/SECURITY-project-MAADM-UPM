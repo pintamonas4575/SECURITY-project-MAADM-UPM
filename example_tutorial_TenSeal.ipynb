{
  "cells": [
    {
      "cell_type": "markdown",
      "metadata": {
        "id": "TILI8iWYpgln"
      },
      "source": [
        "# Tutorial Básico de Criptografía Homomórfica\n",
        "\n",
        "En este tutorial básico vamos a ver como se pueden cifrar datos con esquemas de criptografía homomórfica, realizar operaciones y comprobar que el resultado es igual que si las operaciones se hubiesen hecho con los datos sin cifrar."
      ]
    },
    {
      "cell_type": "code",
      "execution_count": 1,
      "metadata": {},
      "outputs": [],
      "source": [
        "import tenseal as ts\n",
        "import random"
      ]
    },
    {
      "cell_type": "markdown",
      "metadata": {
        "id": "c5ndBybXsJcO"
      },
      "source": [
        "# Elementos Auxiliares\n",
        "\n",
        "Para este tutorial vamos a necesitar importar las librearías de TenSEAL y random (generación de números aleatorios). Además nos definimos dos funciones que serán útiles más adelante en el tutorial."
      ]
    },
    {
      "cell_type": "code",
      "execution_count": 2,
      "metadata": {
        "id": "jI31SkHD_owv"
      },
      "outputs": [],
      "source": [
        "# Método que nos genera un vector de tamaño size con números aleatorios hasta el 4\n",
        "def generate_vector(size):\n",
        "    return [random.randint(0, 4) for _ in range(size)]\n",
        "\n",
        "# Nos calcula la diferencia media entre elementos de una lista\n",
        "def average_difference_between_lists(list1, list2):\n",
        "    if len(list1) != len(list2):\n",
        "        raise ValueError(\"Lists must be of the same size.\")\n",
        "\n",
        "    differences = [abs(list1[i] - list2[i]) for i in range(len(list1))]\n",
        "    avg_diff = sum(differences) / len(differences)\n",
        "    return avg_diff"
      ]
    },
    {
      "cell_type": "markdown",
      "metadata": {
        "id": "hiLK231SsbhW"
      },
      "source": [
        "# Contextos\n",
        "\n",
        "Uno de los objetos más importantes en TenSEAL es el contexto. Este objeto guarda información relevante como las claves de cifrado y los parámetros del esquema de cifrado homórfico utilizado. De esta manera sólo hará falta utilizar este objeto para la mayoría de operaciones necesarias. En este caso vamos a crear un contexto para empezar a realizar nuestras operaciones."
      ]
    },
    {
      "cell_type": "code",
      "execution_count": 3,
      "metadata": {
        "id": "_TPtrWoz_xpm"
      },
      "outputs": [],
      "source": [
        "# Creación del contexto\n",
        "# Controla la precisión de la parte decimal\n",
        "bits_scale = 26\n",
        "\n",
        "# Creación del contexto en TenSEAL. Utilizamos CKKS que permite realizar cómputos con números reales\n",
        "# CKKS fue presentado en ASCIACCS 17: https://eprint.iacr.org/2016/421.pdf\n",
        "context = ts.context(\n",
        "    ts.SCHEME_TYPE.CKKS,\n",
        "    poly_modulus_degree=8192,\n",
        "    coeff_mod_bit_sizes=[31, bits_scale, bits_scale, bits_scale, bits_scale, bits_scale, bits_scale, 31]\n",
        ")\n",
        "# Parámetros adicionales\n",
        "context.global_scale = pow(2, bits_scale)\n",
        "context.generate_galois_keys()"
      ]
    },
    {
      "cell_type": "markdown",
      "metadata": {
        "id": "0hswWhxktgoh"
      },
      "source": [
        "# Cifrando un Vector\n",
        "\n",
        "El siguiente código cifra un vector simple"
      ]
    },
    {
      "cell_type": "code",
      "execution_count": 4,
      "metadata": {
        "colab": {
          "base_uri": "https://localhost:8080/"
        },
        "id": "JhShK3DctgPh",
        "outputId": "41e27bab-225c-4178-f888-cdc5e67e4d3f"
      },
      "outputs": [
        {
          "name": "stdout",
          "output_type": "stream",
          "text": [
            "Tamaño del vector cifrado: 5\n"
          ]
        },
        {
          "data": {
            "text/plain": [
              "<tenseal.tensors.ckksvector.CKKSVector at 0x1ca0a4ea120>"
            ]
          },
          "execution_count": 4,
          "metadata": {},
          "output_type": "execute_result"
        }
      ],
      "source": [
        "plain_vector = [60, 66, 73, 81, 90]\n",
        "encrypted_vector = ts.ckks_vector(context, plain_vector)\n",
        "print(\"Tamaño del vector cifrado:\", encrypted_vector.size())\n",
        "encrypted_vector"
      ]
    },
    {
      "cell_type": "markdown",
      "metadata": {
        "id": "gRIzz-gruLyv"
      },
      "source": [
        "Ahora vamos a proceder a realizar una suma"
      ]
    },
    {
      "cell_type": "code",
      "execution_count": 5,
      "metadata": {
        "colab": {
          "base_uri": "https://localhost:8080/"
        },
        "id": "wLvikIV7t6TX",
        "outputId": "8f028fb1-a081-48bb-ab51-ef69d5ceb72b"
      },
      "outputs": [
        {
          "name": "stdout",
          "output_type": "stream",
          "text": [
            "[61.00000419242638, 67.99996391342151, 75.99997826289973, 85.00002251947531, 94.9999963398753]\n"
          ]
        }
      ],
      "source": [
        "add_result = encrypted_vector + [1, 2, 3, 4, 5]\n",
        "print(add_result.decrypt())"
      ]
    },
    {
      "cell_type": "markdown",
      "metadata": {
        "id": "EVKvkqB7uO--"
      },
      "source": [
        "¿Qué valores obtenemos?\n",
        "\n",
        "Con la multiplicación pasa algo similar"
      ]
    },
    {
      "cell_type": "code",
      "execution_count": 6,
      "metadata": {
        "colab": {
          "base_uri": "https://localhost:8080/"
        },
        "id": "uOQlIYGQuXOz",
        "outputId": "32e9855e-59de-47cf-ff4f-f2ad57c8049c"
      },
      "outputs": [
        {
          "name": "stdout",
          "output_type": "stream",
          "text": [
            "[60.05863741151413, 132.12895145174554, 219.21406665988422, 324.3168189044186, 450.4398309917207]\n"
          ]
        }
      ],
      "source": [
        "mul_result = encrypted_vector * [1, 2, 3, 4, 5]\n",
        "print(mul_result.decrypt())"
      ]
    },
    {
      "cell_type": "markdown",
      "metadata": {
        "id": "RlkoYCHKvAwP"
      },
      "source": [
        "Ahora vamos a realizar operaciones y observar como el error se va acumulando hasta que llega a un límite definido por nosotros. El código proporcionado muestra como el 'error' se va acumulando según se siguen realizando operaciones con los datos. Los algoritmos de criptografía homomórfica tienen mecanismos para ir reduciendo este 'error' pero hacen que la computación sea muy ineficiente comparada con los cómputos sobre datos sin cifrar."
      ]
    },
    {
      "cell_type": "code",
      "execution_count": 7,
      "metadata": {
        "colab": {
          "base_uri": "https://localhost:8080/"
        },
        "id": "NNvlZeMJ_4DI",
        "outputId": "f473cc0d-e7aa-4e08-9827-cf67ccb9b6d0"
      },
      "outputs": [
        {
          "name": "stdout",
          "output_type": "stream",
          "text": [
            "Vector Original: [3, 3, 0, 3, 1]\n",
            "Resultado Descifrado: [3.002946720716774, 6.005894568340625, 3.6348748826789454e-05, 12.011734826461126, 5.00508642875416]\n",
            "Resultado Original: [3, 6, 0, 12, 5]\n",
            "Diferencia media:  0.005139778604302224\n",
            "Resultado Descifrado: [3.00807387889559, 12.032334137434756, 9.356161870050319e-05, 48.129179523782106, 25.068262020520685]\n",
            "Resultado Original: [3, 12, 0, 48, 25]\n",
            "Diferencia media:  0.04758862445036741\n",
            "Resultado Descifrado: [3.0146772260690895, 24.11766744909388, 0.00027001949163233275, 192.94069815021498, 125.61731836545317]\n",
            "Resultado Original: [3, 24, 0, 192, 125]\n",
            "Diferencia media:  0.3381262420645517\n",
            "Resultado Descifrado: [3.0279568907940915, 48.448275248935985, 0.0008360955489383527, 775.1693383527777, 630.858875338803]\n",
            "Resultado Original: [3, 48, 0, 768, 625]\n",
            "Diferencia media:  2.7010563853719494\n",
            "Resultado Descifrado: [3.0533290340872252, 97.70758930354401, 0.0025525514749779312, 3126.631019318586, 3180.696427246417]\n",
            "Resultado Original: [3, 96, 0, 3072, 3125]\n",
            "Diferencia media:  22.418183490821825\n",
            "Salimos en la iteración 4\n"
          ]
        }
      ],
      "source": [
        "# Generamos un vector aleatorio\n",
        "vector_size = 5\n",
        "original_vector = generate_vector(vector_size)\n",
        "print(\"Vector Original:\", original_vector)\n",
        "# Ciframos el vector\n",
        "encrypted_vector = ts.ckks_vector(context, original_vector)\n",
        "decrypted_result = []\n",
        "original_result = original_vector\n",
        "max_avg_error = 10\n",
        "# Realizamos operaciones hasta llegar a un error máximo\n",
        "for i in range(1000):\n",
        "    # Multiplicamos el vector cifrado\n",
        "    encrypted_vector = encrypted_vector * [1, 2, 3, 4, 5]\n",
        "    # Multiplicamos el vector original\n",
        "    original_result = [a * b for a, b in zip(original_result, [1, 2, 3, 4, 5])]\n",
        "    # Desciframos el resultado y mostramos\n",
        "    decrypted_result = encrypted_vector.decrypt()\n",
        "    print(\"Resultado Descifrado:\", decrypted_result)\n",
        "    print(\"Resultado Original:\", original_result)\n",
        "    # Si la diferencia supera un límite salimos\n",
        "    print(\"Diferencia media: \", average_difference_between_lists(original_result,decrypted_result))\n",
        "    if average_difference_between_lists(original_result,decrypted_result)>max_avg_error:\n",
        "        print(\"Salimos en la iteración\", i)\n",
        "        break"
      ]
    },
    {
      "cell_type": "markdown",
      "metadata": {
        "id": "h0a8z6hPMnBo"
      },
      "source": [
        "# Tarea: Puedes resolver el problema de los millonarios con criptografía homomórfica?"
      ]
    },
    {
      "cell_type": "markdown",
      "metadata": {
        "id": "YFko2LD29gB4"
      },
      "source": [
        "**Contexto del problema:**\n",
        "\n",
        "saber quién es el más rico entre dos millonarios sin que ninguno de ellos sepa cuánto tiene el otro.\n",
        "\n",
        "**Solución:**\n",
        "\n",
        "cifrar los datos de ambos millonarios y hacer la resta."
      ]
    }
  ],
  "metadata": {
    "colab": {
      "provenance": []
    },
    "kernelspec": {
      "display_name": ".venv",
      "language": "python",
      "name": "python3"
    },
    "language_info": {
      "codemirror_mode": {
        "name": "ipython",
        "version": 3
      },
      "file_extension": ".py",
      "mimetype": "text/x-python",
      "name": "python",
      "nbconvert_exporter": "python",
      "pygments_lexer": "ipython3",
      "version": "3.12.0"
    }
  },
  "nbformat": 4,
  "nbformat_minor": 0
}
