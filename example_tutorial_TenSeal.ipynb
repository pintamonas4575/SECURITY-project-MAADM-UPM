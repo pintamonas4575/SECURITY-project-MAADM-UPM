{
  "cells": [
    {
      "cell_type": "markdown",
      "metadata": {
        "id": "TILI8iWYpgln"
      },
      "source": [
        "# Tutorial Básico de Criptografía Homomórfica\n",
        "\n",
        "En este tutorial básico vamos a ver como se pueden cifrar datos con esquemas de criptografía homomórfica, realizar operaciones y comprobar que el resultado es igual que si las operaciones se hubiesen hecho con los datos sin cifrar."
      ]
    },
    {
      "cell_type": "code",
      "execution_count": 1,
      "metadata": {
        "colab": {
          "base_uri": "https://localhost:8080/"
        },
        "id": "4j4U4bDR_kPb",
        "outputId": "a1418d45-c3a1-4b32-99eb-73a0c2fc105d"
      },
      "outputs": [
        {
          "name": "stdout",
          "output_type": "stream",
          "text": [
            "Collecting tenseal\n",
            "  Downloading tenseal-0.3.16-cp311-cp311-manylinux_2_27_x86_64.manylinux_2_28_x86_64.whl.metadata (8.4 kB)\n",
            "Downloading tenseal-0.3.16-cp311-cp311-manylinux_2_27_x86_64.manylinux_2_28_x86_64.whl (4.8 MB)\n",
            "\u001b[2K   \u001b[90m━━━━━━━━━━━━━━━━━━━━━━━━━━━━━━━━━━━━━━━━\u001b[0m \u001b[32m4.8/4.8 MB\u001b[0m \u001b[31m32.2 MB/s\u001b[0m eta \u001b[36m0:00:00\u001b[0m\n",
            "\u001b[?25hInstalling collected packages: tenseal\n",
            "Successfully installed tenseal-0.3.16\n"
          ]
        }
      ],
      "source": [
        "# En primer lugar instalamos la libreria de Microsfot TenSEAL que nos permite realizar las operaciones\n",
        "! pip install tenseal"
      ]
    },
    {
      "cell_type": "markdown",
      "metadata": {
        "id": "c5ndBybXsJcO"
      },
      "source": [
        "# Elementos Auxiliares\n",
        "\n",
        "Para este tutorial vamos a necesitar importar las librearías de TenSEAL y random (generación de números aleatorios). Además nos definimos dos funciones que serán útiles más adelante en el tutorial."
      ]
    },
    {
      "cell_type": "code",
      "execution_count": 2,
      "metadata": {
        "id": "jI31SkHD_owv"
      },
      "outputs": [],
      "source": [
        "# Importamos las librerías necesarias\n",
        "import tenseal as ts\n",
        "import random\n",
        "\n",
        "# Método que nos genera un vector de tamaño size con números aleatorios hasta el 4\n",
        "def generate_vector(size):\n",
        "    return [random.randint(0, 4) for _ in range(size)]\n",
        "\n",
        "# Nos calcula la diferencia media entre elementos de una lista\n",
        "def average_difference_between_lists(list1, list2):\n",
        "    if len(list1) != len(list2):\n",
        "        raise ValueError(\"Lists must be of the same size.\")\n",
        "\n",
        "    differences = [abs(list1[i] - list2[i]) for i in range(len(list1))]\n",
        "    avg_diff = sum(differences) / len(differences)\n",
        "    return avg_diff"
      ]
    },
    {
      "cell_type": "markdown",
      "metadata": {
        "id": "hiLK231SsbhW"
      },
      "source": [
        "# Contextos\n",
        "\n",
        "Uno de los objetos más importantes en TenSEAL es el contexto. Este objeto guarda información relevante como las claves de cifrado y los parámetros del esquema de cifrado homórfico utilizado. De esta manera sólo hará falta utilizar este objeto para la mayoría de operaciones necesarias. En este caso vamos a crear un contexto para empezar a realizar nuestras operaciones."
      ]
    },
    {
      "cell_type": "code",
      "execution_count": 3,
      "metadata": {
        "id": "_TPtrWoz_xpm"
      },
      "outputs": [],
      "source": [
        "# Creación del contexto\n",
        "\n",
        "# Controla la precisión de la parte decimal\n",
        "bits_scale = 26\n",
        "\n",
        "# Creación del contexto en TenSEAL. Utilizamos CKKS que permite realizar cómputos con números reales\n",
        "# CKKS fue presentado en ASCIACCS 17: https://eprint.iacr.org/2016/421.pdf\n",
        "context = ts.context(\n",
        "    ts.SCHEME_TYPE.CKKS,\n",
        "    poly_modulus_degree=8192,\n",
        "    coeff_mod_bit_sizes=[31, bits_scale, bits_scale, bits_scale, bits_scale, bits_scale, bits_scale, 31]\n",
        ")\n",
        "# Parámetros adicionales\n",
        "context.global_scale = pow(2, bits_scale)\n",
        "context.generate_galois_keys()"
      ]
    },
    {
      "cell_type": "markdown",
      "metadata": {
        "id": "0hswWhxktgoh"
      },
      "source": [
        "# Cifrando un Vector\n",
        "\n",
        "El siguiente código cifra un vector simple"
      ]
    },
    {
      "cell_type": "code",
      "execution_count": 4,
      "metadata": {
        "colab": {
          "base_uri": "https://localhost:8080/"
        },
        "id": "JhShK3DctgPh",
        "outputId": "41e27bab-225c-4178-f888-cdc5e67e4d3f"
      },
      "outputs": [
        {
          "name": "stdout",
          "output_type": "stream",
          "text": [
            "Tamaño del vector cifrado: 5\n"
          ]
        },
        {
          "data": {
            "text/plain": [
              "<tenseal.tensors.ckksvector.CKKSVector at 0x7eb91cba0d90>"
            ]
          },
          "execution_count": 4,
          "metadata": {},
          "output_type": "execute_result"
        }
      ],
      "source": [
        "plain_vector = [60, 66, 73, 81, 90]\n",
        "encrypted_vector = ts.ckks_vector(context, plain_vector)\n",
        "print(\"Tamaño del vector cifrado:\", encrypted_vector.size())\n",
        "encrypted_vector"
      ]
    },
    {
      "cell_type": "markdown",
      "metadata": {
        "id": "gRIzz-gruLyv"
      },
      "source": [
        "Ahora vamos a proceder a realizar una suma"
      ]
    },
    {
      "cell_type": "code",
      "execution_count": 5,
      "metadata": {
        "colab": {
          "base_uri": "https://localhost:8080/"
        },
        "id": "wLvikIV7t6TX",
        "outputId": "8f028fb1-a081-48bb-ab51-ef69d5ceb72b"
      },
      "outputs": [
        {
          "name": "stdout",
          "output_type": "stream",
          "text": [
            "[61.000001106768615, 67.99999118584887, 75.99998668182143, 84.99998778581144, 95.00000134110331]\n"
          ]
        }
      ],
      "source": [
        "add_result = encrypted_vector + [1, 2, 3, 4, 5]\n",
        "print(add_result.decrypt())"
      ]
    },
    {
      "cell_type": "markdown",
      "metadata": {
        "id": "EVKvkqB7uO--"
      },
      "source": [
        "¿Qué valores obtenemos?\n",
        "\n",
        "Con la multiplicación pasa algo similar"
      ]
    },
    {
      "cell_type": "code",
      "execution_count": 6,
      "metadata": {
        "colab": {
          "base_uri": "https://localhost:8080/"
        },
        "id": "uOQlIYGQuXOz",
        "outputId": "32e9855e-59de-47cf-ff4f-f2ad57c8049c"
      },
      "outputs": [
        {
          "name": "stdout",
          "output_type": "stream",
          "text": [
            "[60.05864551683268, 132.1290271253361, 219.21405784287478, 324.316668144372, 450.4398756057921]\n"
          ]
        }
      ],
      "source": [
        "mul_result = encrypted_vector * [1, 2, 3, 4, 5]\n",
        "print(mul_result.decrypt())"
      ]
    },
    {
      "cell_type": "markdown",
      "metadata": {
        "id": "RlkoYCHKvAwP"
      },
      "source": [
        "Ahora vamos a realizar operaciones y observar como el error se va acumulando hasta que llega a un límite definido por nosotros. El código proporcionado muestra como el 'error' se va acumulando según se siguen realizando operaciones con los datos. Los algoritmos de criptografía homomórfica tienen mecanismos para ir reduciendo este 'error' pero hacen que la computación sea muy ineficiente comparada con los cómputos sobre datos sin cifrar."
      ]
    },
    {
      "cell_type": "code",
      "execution_count": 9,
      "metadata": {
        "colab": {
          "base_uri": "https://localhost:8080/"
        },
        "id": "NNvlZeMJ_4DI",
        "outputId": "f473cc0d-e7aa-4e08-9827-cf67ccb9b6d0"
      },
      "outputs": [
        {
          "name": "stdout",
          "output_type": "stream",
          "text": [
            "Vector Original: [1, 2, 2, 0, 4]\n",
            "Resultado Descifrado: [1.0009748379707792, 4.003888247070249, 6.005863077849119, 8.153625758036323e-05, 20.019568224918785]\n",
            "Resultado Original: [1, 4, 6, 0, 20]\n",
            "Diferencia media:  0.006075184813302497\n",
            "Resultado Descifrado: [1.0026804732167645, 8.021465237565975, 18.048422695704378, 0.0003100528937171101, 100.26918374616335]\n",
            "Resultado Original: [1, 8, 18, 0, 100]\n",
            "Diferencia media:  0.06841244110883686\n",
            "Resultado Descifrado: [1.0048788129495527, 16.07826651100001, 54.26450823065771, 0.0012294838366049051, 502.4499464402027]\n",
            "Resultado Original: [1, 16, 54, 0, 500]\n",
            "Diferencia media:  0.5597658957293202\n",
            "Resultado Descifrado: [1.0093092223151294, 32.29846069612703, 163.51210466994326, 0.004937573698783485, 2523.3384756036444]\n",
            "Resultado Original: [1, 32, 162, 0, 2500]\n",
            "Diferencia media:  5.032657553145716\n",
            "Resultado Descifrado: [1.0177539545253222, 65.13762845401527, 494.64231125407247, 0.019908498342506895, 12722.296613548006]\n",
            "Resultado Original: [1, 64, 486, 0, 12500]\n",
            "Diferencia media:  46.42284314179223\n",
            "Salimos en la iteración 4\n"
          ]
        }
      ],
      "source": [
        "# Generamos un vector aleatorio\n",
        "vector_size = 5\n",
        "original_vector = generate_vector(vector_size)\n",
        "print(\"Vector Original:\", original_vector)\n",
        "# Ciframos el vector\n",
        "encrypted_vector = ts.ckks_vector(context, original_vector)\n",
        "decrypted_result = []\n",
        "original_result = original_vector\n",
        "max_avg_error = 10\n",
        "# Realizamos operaciones hasta llegar a un error máximo\n",
        "for i in range(1000):\n",
        "    # Multiplicamos el vector cifrado\n",
        "    encrypted_vector = encrypted_vector * [1, 2, 3, 4, 5]\n",
        "    # Multiplicamos el vector original\n",
        "    original_result = [a * b for a, b in zip(original_result, [1, 2, 3, 4, 5])]\n",
        "    # Desciframos el resultado y mostramos\n",
        "    decrypted_result = encrypted_vector.decrypt()\n",
        "    print(\"Resultado Descifrado:\", decrypted_result)\n",
        "    print(\"Resultado Original:\", original_result)\n",
        "    # Si la diferencia supera un límite salimos\n",
        "    print(\"Diferencia media: \", average_difference_between_lists(original_result,decrypted_result))\n",
        "    if average_difference_between_lists(original_result,decrypted_result)>max_avg_error:\n",
        "        print(\"Salimos en la iteración\", i)\n",
        "        break"
      ]
    },
    {
      "cell_type": "markdown",
      "metadata": {
        "id": "h0a8z6hPMnBo"
      },
      "source": [
        "# Tarea: Puedes resolver el problema de los millonarios con criptografía homomórfica?"
      ]
    },
    {
      "cell_type": "markdown",
      "metadata": {
        "id": "YFko2LD29gB4"
      },
      "source": [
        "cifrar y hacer la resta"
      ]
    }
  ],
  "metadata": {
    "colab": {
      "provenance": []
    },
    "kernelspec": {
      "display_name": ".venv",
      "language": "python",
      "name": "python3"
    },
    "language_info": {
      "name": "python",
      "version": "3.12.0"
    }
  },
  "nbformat": 4,
  "nbformat_minor": 0
}
